{
  "nbformat": 4,
  "nbformat_minor": 0,
  "metadata": {
    "colab": {
      "name": "Untitled0.ipynb",
      "provenance": [],
      "authorship_tag": "ABX9TyPAluJKx8nJ7JiSlR0JwLv+",
      "include_colab_link": true
    },
    "kernelspec": {
      "name": "python3",
      "display_name": "Python 3"
    },
    "language_info": {
      "name": "python"
    }
  },
  "cells": [
    {
      "cell_type": "markdown",
      "metadata": {
        "id": "view-in-github",
        "colab_type": "text"
      },
      "source": [
        "<a href=\"https://colab.research.google.com/github/Anmolwali0007/python-basics/blob/python-programs/palindrome%20program.ipynb\" target=\"_parent\"><img src=\"https://colab.research.google.com/assets/colab-badge.svg\" alt=\"Open In Colab\"/></a>"
      ]
    },
    {
      "cell_type": "markdown",
      "source": [
        "palin drome check program\n"
      ],
      "metadata": {
        "id": "QbPf4skdfh19"
      }
    },
    {
      "cell_type": "code",
      "execution_count": 26,
      "metadata": {
        "colab": {
          "base_uri": "https://localhost:8080/"
        },
        "id": "LvSyoi6VfZUn",
        "outputId": "a0c28c81-e55b-4b68-e714-831bf82cda73"
      },
      "outputs": [
        {
          "output_type": "stream",
          "name": "stdout",
          "text": [
            "enter a string \n",
            "\n",
            "\n",
            "enter a valid string\n"
          ]
        }
      ],
      "source": [
        "input1 = input('enter a string \\n')\n",
        "print()\n",
        "# BOUNDARY CASE\n",
        "if len(input1) == 1 or len(input1) == 0:\n",
        "  print('enter a valid string')\n",
        "else:\n",
        "  for i in range(len(input1)//2):\n",
        "    if input1[i] == input1[-i-1]:\n",
        "      if i == (len(input1)//2) -1:\n",
        "        print('string is palindrome')  \n",
        "    else:\n",
        "      print('string is not a palindrome')\n",
        "      break\n",
        "\n",
        "\n"
      ]
    },
    {
      "cell_type": "code",
      "source": [
        ""
      ],
      "metadata": {
        "id": "AHI_h43Zfe3P"
      },
      "execution_count": 3,
      "outputs": []
    },
    {
      "cell_type": "code",
      "source": [
        ""
      ],
      "metadata": {
        "id": "AkPuRrEngblv"
      },
      "execution_count": null,
      "outputs": []
    }
  ]
}